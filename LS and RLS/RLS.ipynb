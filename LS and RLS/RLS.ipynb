{
  "cells": [
    {
      "cell_type": "markdown",
      "metadata": {
        "id": "view-in-github",
        "colab_type": "text"
      },
      "source": [
        "<a href=\"https://colab.research.google.com/github/Vite-Noiz/Machine-Learning-Course/blob/main/LS%20and%20RLS/RLS.ipynb\" target=\"_parent\"><img src=\"https://colab.research.google.com/assets/colab-badge.svg\" alt=\"Open In Colab\"/></a>"
      ]
    },
    {
      "cell_type": "markdown",
      "metadata": {
        "id": "ZwKNWsNbpkhZ"
      },
      "source": [
        "# Recursive least squares"
      ]
    },
    {
      "cell_type": "markdown",
      "metadata": {
        "id": "6U56KZZppkhZ"
      },
      "source": [
        "Let $X$ be a design matrix where the number of rows $m$ exceeds the number of columns $n$, and let $y$ the column vector of labels. The weight matrix $w$ that minimizes $\\|Xw-y\\|_2$ (under mild assumptions on $X$) is given by $w = (X^T X)^{-1}X^Ty$. In other words, the entries of $w$ give the coefficients of the linear equation that minimizes the ordinary least squares objective function.  \n",
        "\n",
        "Suppose we want to update our model with new information.  Concretely, suppose we wish to update our regression model with the new observation $\\tilde{x}$ (a column vector) and new label $t$ (a real number). $X$ will be augmented with a new row $\\tilde{x}^T$ to form $\\tilde{X}$, and $y$ will be augmented with the label $t$ to form $\\tilde{y}$. How do we find the new weight vector $\\tilde{w}$ that minimizes $\\|\\tilde{X}\\tilde{w}-\\tilde{y}\\|_2$?"
      ]
    },
    {
      "cell_type": "markdown",
      "metadata": {
        "id": "Ae_TJiNhpkha"
      },
      "source": [
        "## Updating the weight vector\n",
        "The most straightforward answer to the question above is to store $\\tilde{X}$, then compute $\\tilde{w} = (\\tilde{X}^T \\tilde{X})^{-1}\\tilde{X}^T\\tilde{y}$.  This is slow and inefficient:  the usual matrix multiplication algorithm requires $O(n m^2)$ time, and inverting the $n\\times n$ matrix $\\tilde{X}^T \\tilde{X}$ requires $O(n^3)$ time (using Gaussian elimination). Of course, this computation requires us to store the matrix $\\tilde{X}$, requiring $O(mn)$ space. This could become very costly if the number of observations $m$ is large."
      ]
    },
    {
      "cell_type": "markdown",
      "metadata": {
        "id": "xU_0y8ixpkha"
      },
      "source": [
        "## Sherman-Morrison lemma\n",
        "The key to a faster method will be efficiently moving from $(X^T X)^{-1}$ to $(\\tilde{X}^T \\tilde{X})^{-1}$. Define the usual inner product on vectors $x,y\\in \\mathbb{R}^n$ by $\\langle x,y\\rangle := x^T y$. If we already know $(X^T X)^{-1}$, we can compute\n",
        "$(\\tilde{X}^T \\tilde{X})^{-1}$ as follows using the [Sherman-Morrison formula](https://en.wikipedia.org/wiki/Sherman%E2%80%93Morrison_formula):\n",
        "\\begin{align*} (\\tilde{X}^T \\tilde{X})^{-1} &= (X^T X + \\tilde{x}\\tilde{x}^T)^{-1} \\\\\n",
        "&= (X^T X)^{-1} - \\alpha (X^T X)^{-1}\\tilde{x}\\tilde{x}^T (X^T X)^{-1}\n",
        "\\end{align*}\n",
        "where $\\alpha = (1+\\langle \\tilde{x}, (X^T X)^{-1} \\tilde{x}\\rangle)^{-1}$. (Some discussions of RLS cite the [matrix inversion lemma](https://en.wikipedia.org/wiki/Woodbury_matrix_identity) in computing $(\\tilde{X}^T \\tilde{X})^{-1}$.  In fact, because $\\tilde{x}\\tilde{x}^T$ is rank one, the matrix inversion lemma is overkill.)\n",
        "\n",
        "For ease of notation, define $A:=(X^T X)^{-1}$. Define a column vector $z$ by $z=A\\tilde{x}$.  When we combine the equation for $\\tilde{w}$ with our formula for $(\\tilde{X}^T \\tilde{X})^{-1}$, we have  $$ \\tilde{w} = w -\\alpha \\langle x, w+tz\\rangle z+tz.$$"
      ]
    },
    {
      "cell_type": "markdown",
      "metadata": {
        "id": "YVsgtmG0pkha"
      },
      "source": [
        "## The algorithm"
      ]
    },
    {
      "cell_type": "markdown",
      "metadata": {
        "id": "U3kcWRUMpkha"
      },
      "source": [
        "In summary, suppose we desire to update a design matrix $X$ and label column vector $y$ with a new observation $\\tilde{x}$ (a column vector) and label $t$, respectively. We have computed $(X^T X)^{-1}$ and we have found $w$ that minimizes $\\|Xw-y\\|_2$.  To find the new weight vector $\\tilde{w}$, we do the following:\n",
        "* $A = (X^T X)^{-1}$ (given),\n",
        "* $z = A\\tilde{x}$\n",
        "* $\\alpha = (1+\\langle \\tilde{x}, z\\rangle)^{-1}$\n",
        "* $w \\leftarrow  w -\\alpha \\langle x, w+tz\\rangle z+tz$\n",
        "* $A \\leftarrow A - \\alpha zz^T$\n",
        "\n",
        "This is the _recursive least squares_ algorithm.  There are many variations on this algorithm that accomplish the same task in different ways.  For example, one version of the algorithm uses the QR decomposition and Givens rotations, instead of the matrix inversion lemma, to update the weight vector.  Another variation explores reducing the importance of old observations; we'll explore that next."
      ]
    },
    {
      "cell_type": "markdown",
      "metadata": {
        "id": "K2pMkmNIpkha"
      },
      "source": [
        "## Forgetting factor\n",
        "We will now alter the requirements of updating the model by placing more importance on  recent observations. Let $0<\\lambda < 1$ be the \"forgetting factor.\"  Every time an observation is to be added to the design matrix, we first multiply the design matrix by $\\sqrt{\\lambda}$, then append the new observation.\n",
        "\n",
        "Given that we have done this and computed $(X^T X)^{-1}$, the calculation of $(\\tilde{X}^T \\tilde{X})^{-1}$ is similar to before:\n",
        "\\begin{align*}\n",
        "(\\tilde{X}^T \\tilde{X})^{-1} &= (\\lambda X^T X + \\tilde{x}\\tilde{x}^T)^{-1} \\\\\n",
        "&= \\lambda^{-1}(X^T X)^{-1} - \\alpha \\lambda^{-2}(X^T X)^{-1}\\tilde{x}\\tilde{x}^T (X^T X)^{-1}\n",
        "\\end{align*}\n",
        "where $\\alpha = (1+\\langle \\tilde{x}, \\lambda^{-1}(X^T X)^{-1} \\tilde{x}\\rangle)^{-1}$.\n",
        "\n",
        "The algorithm using a forgetting factor is very similar to before.\n",
        "\n",
        "* $A = \\lambda^{-1}(X^T X)^{-1}$ (given),\n",
        "* $z = A\\tilde{x}$\n",
        "* $\\alpha = (1+\\langle \\tilde{x}, z\\rangle)^{-1}$\n",
        "* $w \\leftarrow  w -\\alpha \\langle x, w+tz\\rangle z+tz$\n",
        "* $A \\leftarrow A - \\alpha zz^T$\n"
      ]
    },
    {
      "cell_type": "markdown",
      "metadata": {
        "id": "d7Ke75Awpkhb"
      },
      "source": [
        "## Speed and stability\n",
        "\n",
        "Recall that the naive algorithm for computing $\\tilde{w}$ is $O(n^3+m^2 n)$ time and $O(mn)$ space.  Recursive least squares is considerably better.  The first line of this algorithm requires $O(n^2)$ time (from $A\\tilde{x}$). The second and third lines are also $O(n^2)$. The last line is actually $O(n)$. All told, this algorithm requires $O(n^2)$ time and $O(n^2)$ space.\n",
        "\n",
        "The major disadvantage of recursive least squares is the possibility that, as many observations are added, the weight vector $w$ begins to deviate from the \"true\" weight from round-off error accumulation.  This is beyond the scope of this summary.  Consult [this](http://www.telecom.tuc.gr/Greek/Liavas/publications/On%20the%20Numerical%20Stability%20and%20Accuracy%20of%20the%20Conventional%20Recursive%20Least%20Squares%20Algorithm.pdf) interesting paper for information about necessary conditions will guarantee stability.  "
      ]
    },
    {
      "cell_type": "markdown",
      "metadata": {
        "id": "8i5emCdUpkhb"
      },
      "source": [
        "## Python implementation"
      ]
    },
    {
      "cell_type": "code",
      "execution_count": null,
      "metadata": {
        "id": "MUj7Y54npkhb"
      },
      "outputs": [],
      "source": [
        "class RLS:\n",
        "    def __init__(self, num_vars, lam, delta):\n",
        "        '''\n",
        "        num_vars: number of variables including constant\n",
        "        lam: forgetting factor, usually very close to 1.\n",
        "        '''\n",
        "        self.num_vars = num_vars\n",
        "\n",
        "        # delta controls the initial state.\n",
        "        self.A = delta*np.matrix(np.identity(self.num_vars))\n",
        "        self.w = np.matrix(np.zeros(self.num_vars))\n",
        "        self.w = self.w.reshape(self.w.shape[1],1)\n",
        "\n",
        "        # Variables needed for add_obs\n",
        "        self.lam_inv = lam**(-1)\n",
        "        self.sqrt_lam_inv = math.sqrt(self.lam_inv)\n",
        "\n",
        "        # A priori error\n",
        "        self.a_priori_error = 0\n",
        "\n",
        "        # Count of number of observations added\n",
        "        self.num_obs = 0\n",
        "\n",
        "    def add_obs(self, x, t):\n",
        "        '''\n",
        "        Add the observation x with label t.\n",
        "        x is a column vector as a numpy matrix\n",
        "        t is a real scalar\n",
        "        '''\n",
        "        z = self.lam_inv*self.A*x\n",
        "        alpha = float((1 + x.T*z)**(-1))\n",
        "        self.a_priori_error = float(t - self.w.T*x)\n",
        "        self.w = self.w + (t-alpha*float(x.T*(self.w+t*z)))*z\n",
        "        self.A -= alpha*z*z.T\n",
        "        self.num_obs += 1\n",
        "\n",
        "    def fit(self, X, y):\n",
        "        '''\n",
        "        Fit a model to X,y.\n",
        "        X and y are numpy arrays.\n",
        "        Individual observations in X should have a prepended 1 for constant coefficient.\n",
        "        '''\n",
        "        for i in range(len(X)):\n",
        "            x = np.transpose(np.matrix(X[i]))\n",
        "            self.add_obs(x,y[i])\n",
        "\n",
        "\n",
        "    def get_error(self):\n",
        "        '''\n",
        "        Finds the a priori (instantaneous) error.\n",
        "        Does not calculate the cumulative effect\n",
        "        of round-off errors.\n",
        "        '''\n",
        "        return self.a_priori_error\n",
        "\n",
        "    def predict(self, x):\n",
        "        '''\n",
        "        Predict the value of observation x. x should be a numpy matrix (col vector)\n",
        "        '''\n",
        "        return float(self.w.T*x)"
      ]
    },
    {
      "cell_type": "markdown",
      "metadata": {
        "id": "nFhGv80spkhb"
      },
      "source": [
        "## Testing\n",
        "We test the implementation on a noisy quadratic signal. We will attempt to approximate with a 2nd degree polynomial. In this test, we are looking to see if the weight vector from RLS is close to the weight vector of the quadratic signal."
      ]
    },
    {
      "cell_type": "code",
      "execution_count": null,
      "metadata": {
        "id": "zG-0wunapkhb"
      },
      "outputs": [],
      "source": [
        "import matplotlib.pyplot as plt\n",
        "import seaborn as sns\n",
        "import numpy as np\n",
        "import math\n",
        "import pandas as pd\n",
        "sns.set()\n",
        "from matplotlib import rcParams\n",
        "rcParams['figure.figsize'] = 11.7,8.27"
      ]
    },
    {
      "cell_type": "code",
      "execution_count": null,
      "metadata": {
        "id": "Nk_K46wvpkhb",
        "outputId": "18238edb-b2fa-4aa0-a913-5df0c7a6d9d9"
      },
      "outputs": [
        {
          "name": "stdout",
          "output_type": "stream",
          "text": [
            "[[-5.05458678]\n",
            " [-3.80046535]\n",
            " [ 0.20000064]]\n"
          ]
        },
        {
          "data": {
            "image/png": "[encoded data removed]",
            "text/plain": [
              "<Figure size 432x288 with 1 Axes>"
            ]
          },
          "metadata": {},
          "output_type": "display_data"
        }
      ],
      "source": [
        "test_size = 1000\n",
        "# Test function\n",
        "f = lambda x: 0.2*x**2-3.8*x-5.1\n",
        "# Gaussian noise to be added to the quadratic signal\n",
        "noise = np.random.randn(test_size)\n",
        "# You can play around with other noise (like sinusoidal)\n",
        "#noise = [np.sin(2*np.pi*i/13) for i in range(test_size)]\n",
        "y = np.array([f(i) for i in range(test_size)])\n",
        "noisy_y = y + noise\n",
        "lam = 0.98\n",
        "LS = RLS(3,lam,1)\n",
        "# Not using the RLS.fit function because I want to remember all the predicted values\n",
        "pred_x = []\n",
        "pred_y = []\n",
        "for i in range(test_size):\n",
        "    x = np.matrix(np.zeros((1,3)))\n",
        "    x[0,0] = 1\n",
        "    x[0,1] = i\n",
        "    x[0,2] = i**2\n",
        "    pred_x.append(i)\n",
        "    pred_y.append(float(x*LS.w))\n",
        "    LS.add_obs(x.T,noisy_y[i])\n",
        "print(LS.w)\n",
        "# plot the predicted values against the non-noisy output\n",
        "ax = plt.plot(pred_x, y-pred_y)\n",
        "plt.show()"
      ]
    },
    {
      "cell_type": "markdown",
      "metadata": {
        "id": "xrwMWvqCpkhc"
      },
      "source": [
        "This looks good.  The RLS coefficients are near the coefficients that determine y. As the number of observations increases, the difference between predicted values and the non-noisy values hovers near 0."
      ]
    },
    {
      "cell_type": "markdown",
      "metadata": {
        "id": "yrawhzFjpkhc"
      },
      "source": [
        "## Learning functions\n",
        "We can use RLS to learn functions. Below we approximate $\\frac{3x}{1+10x^2}$ using a 3rd degree polynomial on the interval $[0,1]$ using 1000 evenly spaced points."
      ]
    },
    {
      "cell_type": "code",
      "execution_count": null,
      "metadata": {
        "id": "-75q7wbKpkhc",
        "outputId": "77848e39-1c35-4961-cbfd-1e96aa21024b"
      },
      "outputs": [
        {
          "data": {
            "image/png": "[encoded data removed]",
            "text/plain": [
              "<Figure size 432x288 with 1 Axes>"
            ]
          },
          "metadata": {},
          "output_type": "display_data"
        }
      ],
      "source": [
        "test_size = 1000\n",
        "# Test function\n",
        "f = lambda x: 3*x/(1+10*x**2)\n",
        "# Gaussian noise to be added to the quadratic signal\n",
        "noise = np.random.randn(test_size)\n",
        "# You can play around with other noise (like sinusoidal)\n",
        "#noise = [np.sin(2*np.pi*i/13) for i in range(1000)]\n",
        "y = np.array([f(i/test_size) for i in range(test_size)])\n",
        "#noisy_y = y + noise\n",
        "lam = 1\n",
        "num_vars = 4\n",
        "LS = RLS(num_vars,lam,1)\n",
        "# We won't use RLS.fit because I want to save the predictions.\n",
        "pred_x = []\n",
        "pred_y = []\n",
        "for i in range(test_size):\n",
        "    x = np.matrix(np.zeros((1,num_vars)))\n",
        "    for j in range(num_vars):\n",
        "        x[0,j] = i**j\n",
        "    pred_x.append(i)\n",
        "    pred_y.append(float(x*LS.w))\n",
        "    LS.add_obs(x.T,y[i])\n",
        "ax = plt.plot(pred_x, pred_y,label='predicted')\n",
        "_ = plt.plot(pred_x,y,label='actual')\n",
        "plt.legend()\n",
        "plt.show()"
      ]
    },
    {
      "cell_type": "markdown",
      "metadata": {
        "id": "wBy55qkfpkhd"
      },
      "source": [
        "## Recursive least squares in time series analysis\n",
        "RLS has a long history in time series analysis.  Let's use RLS to predict the closing value of the S&P 500 (actually we'll use the ticker symbol SPY) for the next day.   Here's how the model will work: for each day, we'll predict the closing cost and store the value. Then the model is updated with the actual closing price.  This is meant to simulate the following scenario: you predict today's closing price and make a decision based on the prediction.  At close, you input the closing price into the model and it updates.\n",
        "\n",
        "This model is not meant as a serious tool, and its predictive value is certainly not intended to be helpful beyond 1 day, if it all.  But it is interesting that the hyperparameters of the model (degree, lambda, and delta) can be tuned to get results that at least look good.  \n"
      ]
    },
    {
      "cell_type": "code",
      "execution_count": null,
      "metadata": {
        "id": "2INtvS9apkhd",
        "outputId": "ae469190-2218-4620-ab01-45fad911b497"
      },
      "outputs": [
        {
          "name": "stdout",
          "output_type": "stream",
          "text": [
            "5y\n"
          ]
        }
      ],
      "source": [
        "# use pandas-datareader to import the stock info\n",
        "import pandas_datareader as web\n",
        "import datetime\n",
        "start = datetime.date(2016,7,11)\n",
        "end = datetime.date(2018, 7, 11)\n",
        "f = web.DataReader('SPY', 'iex', start, end)"
      ]
    },
    {
      "cell_type": "code",
      "execution_count": null,
      "metadata": {
        "id": "2H4XDCuhpkhd",
        "outputId": "2b8dc6c2-9eaa-4540-9f24-0ecbbf7b9756"
      },
      "outputs": [
        {
          "data": {
            "image/png": "[encoded data removed]",
            "text/plain": [
              "<Figure size 432x288 with 1 Axes>"
            ]
          },
          "metadata": {},
          "output_type": "display_data"
        }
      ],
      "source": [
        "test_size = len(f)\n",
        "y = f['close'].values\n",
        "lam = 0.98\n",
        "delta = 10\n",
        "num_vars = 5\n",
        "LS = RLS(num_vars, lam, delta)\n",
        "# We won't use RLS.fit because I want to save the predictions.\n",
        "pred_x = []\n",
        "pred_y = []\n",
        "pred_error = []\n",
        "for i in range(test_size):\n",
        "    x = np.matrix(np.zeros((1,num_vars)))\n",
        "    for j in range(num_vars):\n",
        "        x[0,j] = i**j\n",
        "    pred_x.append(i)\n",
        "    pred_y.append(float(x*LS.w))\n",
        "    pred_error.append(LS.get_error())\n",
        "    LS.add_obs(x.T,y[i])\n",
        "ax = plt.plot(pred_x[50:], pred_y[50:],label='predicted')\n",
        "_ = plt.plot(pred_x[50:],y[50:],label='actual')\n",
        "_ = plt.title(\"SPY closing price, 8/30/16 - 7/11/18\")\n",
        "plt.legend()\n",
        "plt.show()"
      ]
    },
    {
      "cell_type": "code",
      "execution_count": null,
      "metadata": {
        "id": "-lMgL-pvpkhd",
        "outputId": "5d597d76-bf21-4296-dfe6-6bd4d53dbbfe"
      },
      "outputs": [
        {
          "name": "stdout",
          "output_type": "stream",
          "text": [
            "0.5584158415841585\n"
          ]
        }
      ],
      "source": [
        "# Determine how often the model predicted the correct stock movement\n",
        "correct_sign = 0\n",
        "for i in range(1,test_size):\n",
        "    if np.sign(y[i]-y[i-1]) == np.sign(pred_x[i]-pred_x[i-1]):\n",
        "        correct_sign += 1\n",
        "print(float(correct_sign)/test_size)"
      ]
    },
    {
      "cell_type": "code",
      "execution_count": null,
      "metadata": {
        "id": "6sPSZyvWpkhd",
        "outputId": "0432f92e-19f7-430a-8c03-e03f31d53665"
      },
      "outputs": [
        {
          "data": {
            "text/plain": [
              "273.01971658817456"
            ]
          },
          "execution_count": 8,
          "metadata": {},
          "output_type": "execute_result"
        }
      ],
      "source": [
        "# Predict the SPY closing price for 7/12/18\n",
        "x = np.matrix(np.zeros((1,num_vars)))\n",
        "for j in range(num_vars):\n",
        "    x[0,j] = (test_size)**j\n",
        "LS.predict(x.T)"
      ]
    },
    {
      "cell_type": "markdown",
      "metadata": {
        "id": "c-saMLsapkhd"
      },
      "source": [
        "You could automate this process pretty easily."
      ]
    },
    {
      "cell_type": "code",
      "execution_count": null,
      "metadata": {
        "id": "cxQtrJ3vpkhd"
      },
      "outputs": [],
      "source": []
    }
  ],
  "metadata": {
    "kernelspec": {
      "display_name": "Python 3",
      "language": "python",
      "name": "python3"
    },
    "language_info": {
      "codemirror_mode": {
        "name": "ipython",
        "version": 3
      },
      "file_extension": ".py",
      "mimetype": "text/x-python",
      "name": "python",
      "nbconvert_exporter": "python",
      "pygments_lexer": "ipython3",
      "version": "3.6.5"
    },
    "colab": {
      "provenance": [],
      "include_colab_link": true
    }
  },
  "nbformat": 4,
  "nbformat_minor": 0
}